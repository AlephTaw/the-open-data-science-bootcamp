{
 "cells": [
  {
   "cell_type": "code",
   "execution_count": 61,
   "metadata": {},
   "outputs": [],
   "source": [
    "def selection_sort(arr):\n",
    "    \"\"\"Selection sort.\"\"\"\n",
    "    i = len(arr) - 1\n",
    "    while i > -1:\n",
    "        largest = arr[i]\n",
    "        for j in range(i):\n",
    "            if arr[j] > arr[i]:\n",
    "                temp = arr[j]\n",
    "                arr[j] = arr[i]\n",
    "                arr[i] = temp\n",
    "        i -= 1\n",
    "    return arr"
   ]
  },
  {
   "cell_type": "code",
   "execution_count": 62,
   "metadata": {},
   "outputs": [
    {
     "data": {
      "text/plain": [
       "[-5, -1, 2]"
      ]
     },
     "execution_count": 62,
     "metadata": {},
     "output_type": "execute_result"
    }
   ],
   "source": [
    "selection_sort([-1,2, -5])"
   ]
  },
  {
   "cell_type": "code",
   "execution_count": 4,
   "metadata": {},
   "outputs": [],
   "source": [
    "def bubble_sort(arr):\n",
    "    arr_length = len(arr)\n",
    "    if arr_length <= 1:\n",
    "        return arr\n",
    "    for i in range(arr_length - 1, 0, -1):\n",
    "        for j in range(i):\n",
    "            if arr[j]>arr[j+1]:\n",
    "                temp = arr[j]\n",
    "                arr[j] = arr[j+1]\n",
    "                arr[j+1] = temp\n",
    "    return arr\n",
    "                "
   ]
  },
  {
   "cell_type": "code",
   "execution_count": 5,
   "metadata": {},
   "outputs": [
    {
     "data": {
      "text/plain": [
       "[-1, -1]"
      ]
     },
     "execution_count": 5,
     "metadata": {},
     "output_type": "execute_result"
    }
   ],
   "source": [
    "bubble_sort([-1, -1])"
   ]
  },
  {
   "cell_type": "code",
   "execution_count": 6,
   "metadata": {},
   "outputs": [],
   "source": [
    "def merge(arr1, arr2):\n",
    "    \"\"\"Merge.\"\"\"\n",
    "    arr = []\n",
    "    i = 0\n",
    "    j = 0\n",
    "    while i < len(arr1) and j < len(arr2):\n",
    "#         print(\"i: \", arr1[i], \"len(arr1):\", len(arr1), \"j: \", arr2[j], \"len(arr2)\", len(arr2))\n",
    "        if arr1[i] <= arr2[j]:\n",
    "            arr.append(arr1[i])\n",
    "            i += 1\n",
    "        elif arr2[j] <= arr1[i]:\n",
    "            arr.append(arr2[j])\n",
    "            j += 1\n",
    "    if i >= len(arr1):\n",
    "        return arr + arr2[j:]\n",
    "    else:\n",
    "        return arr + arr1[i:]\n",
    "        "
   ]
  },
  {
   "cell_type": "code",
   "execution_count": 7,
   "metadata": {},
   "outputs": [],
   "source": [
    "def merge_sort(arr):\n",
    "    \"\"\"Merge sort.\"\"\"\n",
    "    mid = len(arr)//2\n",
    "    if mid > 0:\n",
    "#         print(mid, len(arr) - mid +1)\n",
    "        a = merge_sort(arr[:mid])\n",
    "        b = merge_sort(arr[mid:])\n",
    "        arr = merge(a,b)\n",
    "#         print('merged')\n",
    "    return arr"
   ]
  },
  {
   "cell_type": "code",
   "execution_count": 8,
   "metadata": {},
   "outputs": [
    {
     "data": {
      "text/plain": [
       "[1, 1, 1, 1]"
      ]
     },
     "execution_count": 8,
     "metadata": {},
     "output_type": "execute_result"
    }
   ],
   "source": [
    "merge_sort([1,1,1,1])"
   ]
  },
  {
   "cell_type": "code",
   "execution_count": null,
   "metadata": {},
   "outputs": [],
   "source": []
  },
  {
   "cell_type": "code",
   "execution_count": null,
   "metadata": {},
   "outputs": [],
   "source": []
  },
  {
   "cell_type": "code",
   "execution_count": null,
   "metadata": {},
   "outputs": [],
   "source": []
  },
  {
   "cell_type": "code",
   "execution_count": 9,
   "metadata": {},
   "outputs": [
    {
     "name": "stdout",
     "output_type": "stream",
     "text": [
      "[1, 2, 3, 4]\n",
      "[5, 6, 7, 8]\n",
      "[9, 10, 11, 12]\n",
      "[13, 14, 15, 16]\n"
     ]
    },
    {
     "data": {
      "text/plain": [
       "[6, 7, 8]"
      ]
     },
     "execution_count": 9,
     "metadata": {},
     "output_type": "execute_result"
    }
   ],
   "source": [
    "mat = [[1,2,3,4],[5,6,7,8],[9,10,11,12],[13,14,15,16]]\n",
    "\n",
    "for row in mat:\n",
    "    print(row)\n",
    "\n",
    "import math\n",
    "\n",
    "def rotate_mat(self, img: List[List[int]])-> List[List[int]]:\n",
    "    \"\"\"\"\"\"\n",
    "    max_index = len(img)-1\n",
    "    # loop through rings\n",
    "    for level in range(0,math.ceil(max_index/2)):\n",
    "        # loop the rows and columns of the rings\n",
    "        for i in range(0, max_index-level+1):\n",
    "            # copy ... to ...\n",
    "            temp1 = mat[max_index-level][level+i]\n",
    "            # assign ... to ...\n",
    "            mat[max_index-level][level+i] = mat[level+i][level]\n",
    "            # copy ... to ...\n",
    "            temp2 = mat[max_index-(level_i)][max)index-level]\n",
    "            # assign ... to ...\n",
    "            mat[max_index-(level+i)][max_index-level] = tmp1\n",
    "            # assign ... to ...\n",
    "            mat[level+i][level] = mat[level][max_index-(level+i)]\n",
    "            # assign ... to ...\n",
    "            mat[level][max_index-(level+i)] = tmp2"
   ]
  },
  {
   "cell_type": "code",
   "execution_count": null,
   "metadata": {},
   "outputs": [],
   "source": []
  },
  {
   "cell_type": "code",
   "execution_count": null,
   "metadata": {},
   "outputs": [],
   "source": []
  },
  {
   "cell_type": "code",
   "execution_count": null,
   "metadata": {},
   "outputs": [],
   "source": []
  }
 ],
 "metadata": {
  "kernelspec": {
   "display_name": "Python 3",
   "language": "python",
   "name": "python3"
  },
  "language_info": {
   "codemirror_mode": {
    "name": "ipython",
    "version": 3
   },
   "file_extension": ".py",
   "mimetype": "text/x-python",
   "name": "python",
   "nbconvert_exporter": "python",
   "pygments_lexer": "ipython3",
   "version": "3.8.5"
  }
 },
 "nbformat": 4,
 "nbformat_minor": 4
}
