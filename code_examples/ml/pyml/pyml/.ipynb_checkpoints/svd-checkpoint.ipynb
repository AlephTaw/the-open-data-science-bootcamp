{
 "cells": [
  {
   "cell_type": "code",
   "execution_count": 152,
   "metadata": {},
   "outputs": [
    {
     "data": {
      "text/plain": [
       "<matplotlib.colors.ListedColormap at 0x7f855a0f44f0>"
      ]
     },
     "execution_count": 152,
     "metadata": {},
     "output_type": "execute_result"
    }
   ],
   "source": [
    "import numpy as np\n",
    "import scipy as sc\n",
    "import matplotlib.pyplot as plt\n",
    "import seaborn as sns\n",
    "import pandas as pd\n",
    "sns.color_palette(\"viridis\", as_cmap=True)"
   ]
  },
  {
   "cell_type": "code",
   "execution_count": 153,
   "metadata": {},
   "outputs": [
    {
     "name": "stdout",
     "output_type": "stream",
     "text": [
      "(1, 100)\n"
     ]
    }
   ],
   "source": [
    "data1 = np.zeros((1,100))\n",
    "print(data1.shape)"
   ]
  },
  {
   "cell_type": "code",
   "execution_count": 154,
   "metadata": {},
   "outputs": [
    {
     "name": "stdout",
     "output_type": "stream",
     "text": [
      "(100, 7)\n"
     ]
    }
   ],
   "source": [
    "data2 = np.random.randn(100,7)\n",
    "print(data2.shape)"
   ]
  },
  {
   "cell_type": "code",
   "execution_count": 155,
   "metadata": {},
   "outputs": [
    {
     "data": {
      "text/plain": [
       "Text(0.5, 1.0, 'Ride Sharing Tips vs Total Bill (USD)')"
      ]
     },
     "execution_count": 155,
     "metadata": {},
     "output_type": "execute_result"
    },
    {
     "data": {
      "image/png": "[encoded data removed]",
      "text/plain": [
       "<Figure size 432x288 with 1 Axes>"
      ]
     },
     "metadata": {
      "needs_background": "light"
     },
     "output_type": "display_data"
    }
   ],
   "source": [
    "data3 = data2[:, 0:3]\n",
    "\n",
    "d = {'total_bill': data3[:,0], 'tip': data3[:,1], 'distance': data3[:,2]}\n",
    "data = pd.DataFrame(data=d)\n",
    "data['distance'] = pd.cut(data['distance'], [-2, -1, 0, 1, 2])\n",
    "sns.scatterplot(data=data, x=\"total_bill\", y=\"tip\", hue=\"distance\", palette=\"viridis\").set_title('Ride Sharing Tips vs Total Bill (USD)')"
   ]
  },
  {
   "cell_type": "code",
   "execution_count": 156,
   "metadata": {},
   "outputs": [
    {
     "data": {
      "text/plain": [
       "(5, 2)"
      ]
     },
     "execution_count": 156,
     "metadata": {},
     "output_type": "execute_result"
    }
   ],
   "source": [
    "# data.head()\n",
    "np_data = data[0:30][0:5].to_numpy()\n",
    "np_data = np_data[:,0:2]\n",
    "np_data.shape"
   ]
  },
  {
   "cell_type": "code",
   "execution_count": 157,
   "metadata": {},
   "outputs": [
    {
     "name": "stdout",
     "output_type": "stream",
     "text": [
      "[[-0.03449712  0.58158928 -0.07240187 -0.80951951]\n",
      " [-0.99379611 -0.10580976  0.00398968 -0.0340246 ]\n",
      " [-0.08865449  0.64544676 -0.55507577  0.51713611]\n",
      " [-0.05761619  0.48369069  0.82863318  0.27584551]] [92.69101952  7.60086866  2.06855063  0.56815037] [[-0.71431001 -0.59645784 -0.36253284 -0.05068728]\n",
      " [-0.24803809 -0.06074871  0.47057759  0.84459661]\n",
      " [ 0.62127888 -0.50445161 -0.44963906  0.39669365]\n",
      " [ 0.20555018 -0.62135032  0.66704677 -0.35597966]]\n"
     ]
    }
   ],
   "source": [
    "u, s, vh = sc.linalg.svd(np.array([[1,2,3,4], [66, 55, 33,4],[4,5,6,4], [4,2,3,4]]), full_matrices=False)\n",
    "print(u, s, vh)"
   ]
  },
  {
   "cell_type": "code",
   "execution_count": 158,
   "metadata": {},
   "outputs": [],
   "source": [
    "data3 = data2[:, 0:3]\n",
    "\n",
    "d = {'total_bill': data3[:,0], 'tip': data3[:,1], 'distance': data3[:,2]}\n",
    "data_for_svd = pd.DataFrame(data=d)\n",
    "\n"
   ]
  },
  {
   "cell_type": "code",
   "execution_count": 159,
   "metadata": {},
   "outputs": [
    {
     "data": {
      "text/plain": [
       "(100, 3)"
      ]
     },
     "execution_count": 159,
     "metadata": {},
     "output_type": "execute_result"
    }
   ],
   "source": [
    "data_for_svd\n",
    "np_for_svd = data_for_svd.to_numpy()\n",
    "np_for_svd.shape"
   ]
  },
  {
   "cell_type": "code",
   "execution_count": 160,
   "metadata": {},
   "outputs": [
    {
     "name": "stdout",
     "output_type": "stream",
     "text": [
      "u:  [[-1.39668023e-01  3.80831042e-03  1.52617122e-04 ...  5.56836089e-02\n",
      "   6.36934805e-02  5.63387948e-02]\n",
      " [ 3.22780182e-01 -2.79256438e-02 -5.90375266e-02 ...  3.52084741e-02\n",
      "  -4.51347855e-02  1.36999553e-01]\n",
      " [ 1.28300152e-01  2.50029587e-01 -6.25493052e-02 ... -2.18321704e-02\n",
      "   4.71195432e-02  1.19794900e-01]\n",
      " ...\n",
      " [-1.87907528e-02  6.28079818e-02 -1.68693057e-02 ...  9.95560280e-01\n",
      "  -2.06107698e-03 -6.24051378e-03]\n",
      " [ 2.55118163e-02 -3.25681855e-03 -8.87367991e-02 ... -9.25298547e-04\n",
      "   9.91716105e-01 -5.43016946e-03]\n",
      " [-1.70219854e-01  5.46832444e-03 -8.76984611e-02 ... -5.11026342e-03\n",
      "  -5.83604784e-03  9.68206287e-01]] s:  [11.00340326  9.49124629  9.19627139] vh:  [[-0.05379552  0.87616126  0.47900677]\n",
      " [-0.81417538 -0.31621421  0.4869569 ]\n",
      " [ 0.57812151 -0.36379942  0.73035984]]\n"
     ]
    }
   ],
   "source": [
    "u, s, vh = sc.linalg.svd(np_for_svd, full_matrices=True)\n",
    "print(\"u: \", u, \"s: \", s, \"vh: \", vh)"
   ]
  },
  {
   "cell_type": "code",
   "execution_count": 171,
   "metadata": {},
   "outputs": [
    {
     "name": "stdout",
     "output_type": "stream",
     "text": [
      "[11.00340326  9.49124629  0.        ]\n"
     ]
    }
   ],
   "source": [
    "k_largest = 2\n",
    "new_s = s\n",
    "m = u.shape[1]\n",
    "n = vh.shape[1]\n",
    "for entry in range(k_largest, s.shape[0]):\n",
    "    new_s[entry] = 0\n",
    "sigma = np.zeros((m, n))\n",
    "for i in range(min(m, n)):\n",
    "    sigma[i, i] = s[i]\n",
    "print(new_s)"
   ]
  },
  {
   "cell_type": "code",
   "execution_count": 172,
   "metadata": {},
   "outputs": [
    {
     "name": "stdout",
     "output_type": "stream",
     "text": [
      "(3, 3)\n",
      "(100, 3)\n",
      "(100, 100)\n"
     ]
    }
   ],
   "source": [
    "print(vh.shape)\n",
    "print(sigma.shape)\n",
    "print(u.shape)\n",
    "# red_data = np.dot(u, np.dot(s, vh))"
   ]
  },
  {
   "cell_type": "code",
   "execution_count": null,
   "metadata": {},
   "outputs": [],
   "source": []
  },
  {
   "cell_type": "code",
   "execution_count": null,
   "metadata": {},
   "outputs": [],
   "source": []
  }
 ],
 "metadata": {
  "kernelspec": {
   "display_name": "Python 3",
   "language": "python",
   "name": "python3"
  },
  "language_info": {
   "codemirror_mode": {
    "name": "ipython",
    "version": 3
   },
   "file_extension": ".py",
   "mimetype": "text/x-python",
   "name": "python",
   "nbconvert_exporter": "python",
   "pygments_lexer": "ipython3",
   "version": "3.8.5"
  }
 },
 "nbformat": 4,
 "nbformat_minor": 4
}
