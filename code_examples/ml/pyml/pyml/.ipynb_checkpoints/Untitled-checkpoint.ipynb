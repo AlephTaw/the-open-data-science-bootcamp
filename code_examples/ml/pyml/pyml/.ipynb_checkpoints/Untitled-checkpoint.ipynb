{
 "cells": [
  {
   "cell_type": "code",
   "execution_count": 29,
   "metadata": {},
   "outputs": [
    {
     "data": {
      "text/plain": [
       "<matplotlib.colors.ListedColormap at 0x7f5023e3db20>"
      ]
     },
     "execution_count": 29,
     "metadata": {},
     "output_type": "execute_result"
    }
   ],
   "source": [
    "import numpy as np\n",
    "import scipy as sc\n",
    "import matplotlib.pyplot as plt\n",
    "import seaborn as sns\n",
    "import pandas as pd\n",
    "sns.color_palette(\"viridis\", as_cmap=True)"
   ]
  },
  {
   "cell_type": "code",
   "execution_count": 30,
   "metadata": {},
   "outputs": [
    {
     "data": {
      "text/plain": [
       "array([[ -4.01438277,  -3.99860651],\n",
       "       [ -3.76083323,  -3.96887592],\n",
       "       [ -4.33175971,  -4.28680686],\n",
       "       [ -3.72293001,  -3.90288672],\n",
       "       [ -3.55037661,  -4.12857371],\n",
       "       [ -4.27682816,  -3.39578093],\n",
       "       [ -3.76575587,  -3.97742544],\n",
       "       [ -4.62966036,  -3.0279857 ],\n",
       "       [ -4.0753542 ,  -4.76153842],\n",
       "       [ -5.85463369,  -3.26213323],\n",
       "       [ -3.5146918 ,  -5.02703473],\n",
       "       [ -3.72193722,  -2.788764  ],\n",
       "       [ -3.71986017,  -3.63988165],\n",
       "       [ -4.3542628 ,  -3.66848136],\n",
       "       [ -2.98970021,  -4.38690951],\n",
       "       [ -4.27841522,  -4.04594669],\n",
       "       [ -5.17673213,  -6.27355355],\n",
       "       [ -2.845801  ,  -4.23947213],\n",
       "       [ -2.46707196,  -7.550003  ],\n",
       "       [ -7.21876375,  -6.10661172],\n",
       "       [ -6.20272313,  -5.22912619],\n",
       "       [  0.3081876 ,  -1.76864244],\n",
       "       [ -4.797496  ,  -5.19898567],\n",
       "       [ -4.57063812,  -4.79628573],\n",
       "       [ -1.95512276,  -0.06834582],\n",
       "       [ -9.35556018,  -2.83296337],\n",
       "       [ -4.98791283,  -6.01925743],\n",
       "       [ -3.77180495,  -6.56788776],\n",
       "       [ -7.18425232,  -5.54016875],\n",
       "       [ -4.63340867,  -6.21962014],\n",
       "       [ -5.9139291 ,  -4.15934117],\n",
       "       [ -6.4657334 ,  -3.9741861 ],\n",
       "       [ -4.64901391,  -6.07249484],\n",
       "       [  5.98561723,   6.00139349],\n",
       "       [  6.23916677,   6.03112408],\n",
       "       [  5.66824029,   5.71319314],\n",
       "       [  6.27706999,   6.09711328],\n",
       "       [  6.44962339,   5.87142629],\n",
       "       [  5.72317184,   6.60421907],\n",
       "       [  6.23424413,   6.02257456],\n",
       "       [  5.37033964,   6.9720143 ],\n",
       "       [  5.9246458 ,   5.23846158],\n",
       "       [  4.14536631,   6.73786677],\n",
       "       [  6.4853082 ,   4.97296527],\n",
       "       [  6.27806278,   7.211236  ],\n",
       "       [  6.28013983,   6.36011835],\n",
       "       [  5.6457372 ,   6.33151864],\n",
       "       [  7.01029979,   5.61309049],\n",
       "       [  5.72158478,   5.95405331],\n",
       "       [  4.82326787,   3.72644645],\n",
       "       [  7.154199  ,   5.76052787],\n",
       "       [  7.53292804,   2.449997  ],\n",
       "       [  2.78123625,   3.89338828],\n",
       "       [  3.79727687,   4.77087381],\n",
       "       [ 10.3081876 ,   8.23135756],\n",
       "       [  5.202504  ,   4.80101433],\n",
       "       [  5.42936188,   5.20371427],\n",
       "       [  8.04487724,   9.93165418],\n",
       "       [  0.64443982,   7.16703663],\n",
       "       [  5.01208717,   3.98074257],\n",
       "       [  6.22819505,   3.43211224],\n",
       "       [  2.81574768,   4.45983125],\n",
       "       [  5.36659133,   3.78037986],\n",
       "       [  4.0860709 ,   5.84065883],\n",
       "       [  3.5342666 ,   6.0258139 ],\n",
       "       [  5.35098609,   3.92750516],\n",
       "       [  1.98561723,  -6.99860651],\n",
       "       [  2.23916677,  -6.96887592],\n",
       "       [  1.66824029,  -7.28680686],\n",
       "       [  2.27706999,  -6.90288672],\n",
       "       [  2.44962339,  -7.12857371],\n",
       "       [  1.72317184,  -6.39578093],\n",
       "       [  2.23424413,  -6.97742544],\n",
       "       [  1.37033964,  -6.0279857 ],\n",
       "       [  1.9246458 ,  -7.76153842],\n",
       "       [  0.14536631,  -6.26213323],\n",
       "       [  2.4853082 ,  -8.02703473],\n",
       "       [  2.27806278,  -5.788764  ],\n",
       "       [  2.28013983,  -6.63988165],\n",
       "       [  1.6457372 ,  -6.66848136],\n",
       "       [  3.01029979,  -7.38690951],\n",
       "       [  1.72158478,  -7.04594669],\n",
       "       [  0.82326787,  -9.27355355],\n",
       "       [  3.154199  ,  -7.23947213],\n",
       "       [  3.53292804, -10.550003  ],\n",
       "       [ -1.21876375,  -9.10661172],\n",
       "       [ -0.20272313,  -8.22912619],\n",
       "       [  6.3081876 ,  -4.76864244],\n",
       "       [  1.202504  ,  -8.19898567],\n",
       "       [  1.42936188,  -7.79628573],\n",
       "       [  4.04487724,  -3.06834582],\n",
       "       [ -3.35556018,  -5.83296337],\n",
       "       [  1.01208717,  -9.01925743],\n",
       "       [  2.22819505,  -9.56788776],\n",
       "       [ -1.18425232,  -8.54016875],\n",
       "       [  1.36659133,  -9.21962014],\n",
       "       [  0.0860709 ,  -7.15934117],\n",
       "       [ -0.4657334 ,  -6.9741861 ],\n",
       "       [  1.35098609,  -9.07249484]])"
      ]
     },
     "execution_count": 30,
     "metadata": {},
     "output_type": "execute_result"
    }
   ],
   "source": [
    "# k-means\n",
    "k = 3\n",
    "\n",
    "data = np.random.randn(33, 2)\n",
    "data1 = np.array([data[row,:]*3*(row+0.1)/33 - [4,4] for row in range(0,33)])\n",
    "data2 = np.array([data[row,:]*3*(row+0.1)/33 - [-6,-6] for row in range(0,33)])\n",
    "data3 = np.array([data[row,:]*3*(row+0.1)/33 - [-2,7] for row in range(0,33)])\n",
    "\n",
    "data = np.concatenate((data1, data2, data3), axis=0)\n",
    "data"
   ]
  },
  {
   "cell_type": "code",
   "execution_count": 31,
   "metadata": {},
   "outputs": [
    {
     "data": {
      "text/plain": [
       "-10.550003000653621"
      ]
     },
     "execution_count": 31,
     "metadata": {},
     "output_type": "execute_result"
    }
   ],
   "source": [
    "data.max()\n",
    "data.min()"
   ]
  },
  {
   "cell_type": "code",
   "execution_count": 32,
   "metadata": {},
   "outputs": [
    {
     "data": {
      "text/plain": [
       "Text(0.5, 1.0, 'numx vs numy (USD)')"
      ]
     },
     "execution_count": 32,
     "metadata": {},
     "output_type": "execute_result"
    },
    {
     "data": {
      "image/png": "[encoded data removed]",
      "text/plain": [
       "<Figure size 432x288 with 1 Axes>"
      ]
     },
     "metadata": {
      "needs_background": "light"
     },
     "output_type": "display_data"
    }
   ],
   "source": [
    "d = {'numx': data[:,0], 'numy': data[:,1]}\n",
    "data_df = pd.DataFrame(data=d)\n",
    "data_df.head()\n",
    "sns.scatterplot(data=data_df, x=\"numx\", y=\"numy\", palette=\"viridis\").set_title('numx vs numy (USD)')"
   ]
  },
  {
   "cell_type": "code",
   "execution_count": 33,
   "metadata": {},
   "outputs": [
    {
     "data": {
      "text/html": [
       "<div>\n",
       "<style scoped>\n",
       "    .dataframe tbody tr th:only-of-type {\n",
       "        vertical-align: middle;\n",
       "    }\n",
       "\n",
       "    .dataframe tbody tr th {\n",
       "        vertical-align: top;\n",
       "    }\n",
       "\n",
       "    .dataframe thead th {\n",
       "        text-align: right;\n",
       "    }\n",
       "</style>\n",
       "<table border=\"1\" class=\"dataframe\">\n",
       "  <thead>\n",
       "    <tr style=\"text-align: right;\">\n",
       "      <th></th>\n",
       "      <th>numx</th>\n",
       "      <th>numy</th>\n",
       "    </tr>\n",
       "  </thead>\n",
       "  <tbody>\n",
       "    <tr>\n",
       "      <th>0</th>\n",
       "      <td>-4.014383</td>\n",
       "      <td>-3.998607</td>\n",
       "    </tr>\n",
       "    <tr>\n",
       "      <th>1</th>\n",
       "      <td>-3.760833</td>\n",
       "      <td>-3.968876</td>\n",
       "    </tr>\n",
       "    <tr>\n",
       "      <th>2</th>\n",
       "      <td>-4.331760</td>\n",
       "      <td>-4.286807</td>\n",
       "    </tr>\n",
       "    <tr>\n",
       "      <th>3</th>\n",
       "      <td>-3.722930</td>\n",
       "      <td>-3.902887</td>\n",
       "    </tr>\n",
       "    <tr>\n",
       "      <th>4</th>\n",
       "      <td>-3.550377</td>\n",
       "      <td>-4.128574</td>\n",
       "    </tr>\n",
       "  </tbody>\n",
       "</table>\n",
       "</div>"
      ],
      "text/plain": [
       "       numx      numy\n",
       "0 -4.014383 -3.998607\n",
       "1 -3.760833 -3.968876\n",
       "2 -4.331760 -4.286807\n",
       "3 -3.722930 -3.902887\n",
       "4 -3.550377 -4.128574"
      ]
     },
     "execution_count": 33,
     "metadata": {},
     "output_type": "execute_result"
    }
   ],
   "source": [
    "data_df.head()"
   ]
  },
  {
   "cell_type": "code",
   "execution_count": 40,
   "metadata": {},
   "outputs": [],
   "source": [
    "x_max = data_df['numx'].max()\n",
    "x_min = data_df['numx'].min()\n",
    "\n",
    "y_max = data_df['numy'].max()\n",
    "y_min = data_df['numy'].min()"
   ]
  },
  {
   "cell_type": "code",
   "execution_count": 49,
   "metadata": {},
   "outputs": [
    {
     "data": {
      "text/plain": [
       "(99,)"
      ]
     },
     "execution_count": 49,
     "metadata": {},
     "output_type": "execute_result"
    }
   ],
   "source": [
    "data_df['numx'].shape"
   ]
  },
  {
   "cell_type": "code",
   "execution_count": null,
   "metadata": {},
   "outputs": [],
   "source": []
  },
  {
   "cell_type": "code",
   "execution_count": 41,
   "metadata": {},
   "outputs": [
    {
     "data": {
      "text/plain": [
       "(-9.35556018117768, 10.30818759781295)"
      ]
     },
     "execution_count": 41,
     "metadata": {},
     "output_type": "execute_result"
    }
   ],
   "source": [
    "x_min, x_max"
   ]
  },
  {
   "cell_type": "code",
   "execution_count": 42,
   "metadata": {},
   "outputs": [
    {
     "data": {
      "text/plain": [
       "(-10.550003000653621, 9.931654184818278)"
      ]
     },
     "execution_count": 42,
     "metadata": {},
     "output_type": "execute_result"
    }
   ],
   "source": [
    "y_min, y_max"
   ]
  },
  {
   "cell_type": "code",
   "execution_count": null,
   "metadata": {},
   "outputs": [],
   "source": []
  },
  {
   "cell_type": "code",
   "execution_count": null,
   "metadata": {},
   "outputs": [],
   "source": [
    "\n",
    "def k_means(data, init = None, tol = 0.0001, max_iters = 300):\n",
    "    \"\"\"\"\"\"\n",
    "    n_pts = data.shape[0]\n",
    "    k_centroids = 3\n",
    "    cents = np.empty(k_centroids)\n",
    "\n",
    "    for iter_num in range(0, max_iters):\n",
    "        if init == None:\n",
    "            init = np.array([[np.random.random(x_min, x_max), np.random.random(y_min, y_max)] for i in range(0, k_centroids)])\n",
    "        assign_mat = {}\n",
    "        for k range(0, k_centroids):\n",
    "            assign_mat(k) = []\n",
    "\n",
    "        # compute centroid assingment\n",
    "        for i in range(0, n_pts):\n",
    "            closest_cent = 0\n",
    "            d_min = np.exp(data[i] - cents[0], 2)\n",
    "            for k in range(1, k_centroids):\n",
    "                d = np.exp(data[i] - cents[assign_mat(k)], 2)\n",
    "                if d < d_min:\n",
    "                    d_min = d\n",
    "                    assign_mat(k).append(data[i])\n",
    "\n",
    "        # compute loss\n",
    "        loss = 0\n",
    "        for k range(0, k_centroids):\n",
    "            loss += np.exp(assign_mat(k) - cents[k], 2)\n",
    "        # termination condition\n",
    "        if loss < tol or iter_num > max_iters:\n",
    "            return [assign_mat, loss, iter_num]"
   ]
  },
  {
   "cell_type": "code",
   "execution_count": null,
   "metadata": {},
   "outputs": [],
   "source": []
  },
  {
   "cell_type": "code",
   "execution_count": null,
   "metadata": {},
   "outputs": [],
   "source": [
    "# Gaussian discriminant analysis\n"
   ]
  },
  {
   "cell_type": "code",
   "execution_count": null,
   "metadata": {},
   "outputs": [],
   "source": [
    "# Naive Bayes"
   ]
  },
  {
   "cell_type": "code",
   "execution_count": null,
   "metadata": {},
   "outputs": [],
   "source": []
  },
  {
   "cell_type": "code",
   "execution_count": null,
   "metadata": {},
   "outputs": [],
   "source": [
    "# logistic regression__"
   ]
  },
  {
   "cell_type": "code",
   "execution_count": null,
   "metadata": {},
   "outputs": [],
   "source": [
    "# linear regression"
   ]
  },
  {
   "cell_type": "code",
   "execution_count": null,
   "metadata": {},
   "outputs": [],
   "source": [
    "# Perceptron"
   ]
  },
  {
   "cell_type": "code",
   "execution_count": null,
   "metadata": {},
   "outputs": [],
   "source": [
    "# Decision Tree"
   ]
  },
  {
   "cell_type": "code",
   "execution_count": null,
   "metadata": {},
   "outputs": [],
   "source": [
    "# Boosting"
   ]
  },
  {
   "cell_type": "code",
   "execution_count": null,
   "metadata": {},
   "outputs": [],
   "source": [
    "# Ensembling"
   ]
  },
  {
   "cell_type": "code",
   "execution_count": null,
   "metadata": {},
   "outputs": [],
   "source": [
    "# EM Algorithm"
   ]
  },
  {
   "cell_type": "code",
   "execution_count": null,
   "metadata": {},
   "outputs": [],
   "source": [
    "# MINRNN"
   ]
  },
  {
   "cell_type": "code",
   "execution_count": null,
   "metadata": {},
   "outputs": [],
   "source": [
    "# MINCNN"
   ]
  },
  {
   "cell_type": "code",
   "execution_count": null,
   "metadata": {},
   "outputs": [],
   "source": [
    "# MINTRANSFORMER"
   ]
  },
  {
   "cell_type": "code",
   "execution_count": null,
   "metadata": {},
   "outputs": [],
   "source": [
    "# MINANN (MNIST)"
   ]
  },
  {
   "cell_type": "code",
   "execution_count": null,
   "metadata": {},
   "outputs": [],
   "source": []
  },
  {
   "cell_type": "code",
   "execution_count": 50,
   "metadata": {},
   "outputs": [],
   "source": [
    "# Feature Selection"
   ]
  },
  {
   "cell_type": "code",
   "execution_count": 51,
   "metadata": {},
   "outputs": [],
   "source": [
    "# *Kernel Methods"
   ]
  },
  {
   "cell_type": "code",
   "execution_count": 52,
   "metadata": {},
   "outputs": [],
   "source": [
    "# Custom Pipeline Methods"
   ]
  },
  {
   "cell_type": "code",
   "execution_count": 53,
   "metadata": {},
   "outputs": [],
   "source": [
    "# Data Preprocessing Methods"
   ]
  },
  {
   "cell_type": "code",
   "execution_count": null,
   "metadata": {},
   "outputs": [],
   "source": [
    "# Data Set Specific Preprocessing Methods"
   ]
  },
  {
   "cell_type": "code",
   "execution_count": 54,
   "metadata": {},
   "outputs": [],
   "source": [
    "# Integrated Illustrative Sample datasets"
   ]
  },
  {
   "cell_type": "code",
   "execution_count": null,
   "metadata": {},
   "outputs": [],
   "source": [
    "# Integrated Example Illustrations (double as test cases, or at least very close.)"
   ]
  },
  {
   "cell_type": "code",
   "execution_count": null,
   "metadata": {},
   "outputs": [],
   "source": []
  }
 ],
 "metadata": {
  "kernelspec": {
   "display_name": "Python 3",
   "language": "python",
   "name": "python3"
  },
  "language_info": {
   "codemirror_mode": {
    "name": "ipython",
    "version": 3
   },
   "file_extension": ".py",
   "mimetype": "text/x-python",
   "name": "python",
   "nbconvert_exporter": "python",
   "pygments_lexer": "ipython3",
   "version": "3.8.5"
  }
 },
 "nbformat": 4,
 "nbformat_minor": 4
}
