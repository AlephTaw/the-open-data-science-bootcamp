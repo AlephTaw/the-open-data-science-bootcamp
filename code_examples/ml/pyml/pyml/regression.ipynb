{
 "cells": [
  {
   "cell_type": "code",
   "execution_count": 1,
   "metadata": {},
   "outputs": [],
   "source": [
    "import numpy as np"
   ]
  },
  {
   "cell_type": "code",
   "execution_count": 42,
   "metadata": {},
   "outputs": [],
   "source": [
    "data = np.array([[1,2], [3,4], [5,6]])\n",
    "labels = np.array([data[i,0]*3 for i in range(data.shape[0])])\n",
    "data = np.concatenate((data, np.ones((data.shape[0], 1))), axis=1)"
   ]
  },
  {
   "cell_type": "code",
   "execution_count": 43,
   "metadata": {},
   "outputs": [
    {
     "data": {
      "text/plain": [
       "(3, 3)"
      ]
     },
     "execution_count": 43,
     "metadata": {},
     "output_type": "execute_result"
    }
   ],
   "source": [
    "data.shape"
   ]
  },
  {
   "cell_type": "code",
   "execution_count": 15,
   "metadata": {},
   "outputs": [],
   "source": [
    "# augment data to include biases\n"
   ]
  },
  {
   "cell_type": "code",
   "execution_count": 21,
   "metadata": {},
   "outputs": [],
   "source": [
    "weights = np.random.randn(data.shape[1])"
   ]
  },
  {
   "cell_type": "code",
   "execution_count": 22,
   "metadata": {},
   "outputs": [
    {
     "data": {
      "text/plain": [
       "array([-0.08358988, -0.38068668, -0.8015887 ])"
      ]
     },
     "execution_count": 22,
     "metadata": {},
     "output_type": "execute_result"
    }
   ],
   "source": [
    "weights"
   ]
  },
  {
   "cell_type": "code",
   "execution_count": 38,
   "metadata": {},
   "outputs": [
    {
     "name": "stderr",
     "output_type": "stream",
     "text": [
      "<ipython-input-38-54b83bc3180c>:5: RuntimeWarning: overflow encountered in multiply\n",
      "  delta_loss = (np.dot(weights, data[i,:]) - labels[i])*weights\n"
     ]
    },
    {
     "data": {
      "text/plain": [
       "array([-inf, -inf, -inf])"
      ]
     },
     "execution_count": 38,
     "metadata": {},
     "output_type": "execute_result"
    }
   ],
   "source": [
    "def linear_regression(data, labels, n_epochs = 300, batch_size=None, loss_tol=0.0001):\n",
    "    \"\"\"\"\"\"\n",
    "    nu = 0.01\n",
    "    n_pts = data.shape[0]\n",
    "    n_losses = 10\n",
    "    cum_loss = np.zeros(n_losses)\n",
    "    if batch_size == None:\n",
    "        batch_size == n_pts\n",
    "    else:\n",
    "        n_batches = np.ceil(n_pts / batch_size)\n",
    "        batches = [(i*batch_size, (i+1)*batch_size) for i in range(n_batches)]\n",
    "        batches[n_batches-1][1] = n_pts\n",
    "    for epoch in range(n_epochs):\n",
    "        for (start, stop) in batches:\n",
    "            for i in range(start, stop):\n",
    "                delta_loss = (np.dot(weights, data[i,:]) - labels[i])*weights\n",
    "                weights = weights - nu*delta_loss\n",
    "                if loss_count%n_losses != 0:\n",
    "                    cum_loss.pop(0)\n",
    "                    cum_loss.append(delta_loss)\n",
    "                else:\n",
    "                    avg_loss = np.sum(cum_loss, axis=0)/n_losses\n",
    "                    if avg_loss < loss_tol:\n",
    "                        return weights\n",
    "    return weights"
   ]
  },
  {
   "cell_type": "code",
   "execution_count": 37,
   "metadata": {},
   "outputs": [
    {
     "data": {
      "text/plain": [
       "array([-0.76951298, -3.50453122, -7.37927735])"
      ]
     },
     "execution_count": 37,
     "metadata": {},
     "output_type": "execute_result"
    }
   ],
   "source": [
    "def linear_act(input_data, labels, optimizer='sgd', learning_rate=0.01, optimizer_options = None):\n",
    "    \"\"\"\"\"\"\n",
    "    return [np.dot(weights, input_data), weights]\n",
    "\n",
    "def sq_error_loss(prediction, actual):\n",
    "    \"\"\"\"\"\"\n",
    "    return np.sum(np.exp(prediction - actual,2), axis=0)\n",
    "\n",
    "def optimizer\n",
    "    "
   ]
  },
  {
   "cell_type": "code",
   "execution_count": 44,
   "metadata": {},
   "outputs": [
    {
     "data": {
      "text/plain": [
       "[]"
      ]
     },
     "execution_count": 44,
     "metadata": {},
     "output_type": "execute_result"
    }
   ],
   "source": []
  },
  {
   "cell_type": "code",
   "execution_count": null,
   "metadata": {},
   "outputs": [],
   "source": []
  }
 ],
 "metadata": {
  "kernelspec": {
   "display_name": "Python 3",
   "language": "python",
   "name": "python3"
  },
  "language_info": {
   "codemirror_mode": {
    "name": "ipython",
    "version": 3
   },
   "file_extension": ".py",
   "mimetype": "text/x-python",
   "name": "python",
   "nbconvert_exporter": "python",
   "pygments_lexer": "ipython3",
   "version": "3.8.5"
  }
 },
 "nbformat": 4,
 "nbformat_minor": 4
}
