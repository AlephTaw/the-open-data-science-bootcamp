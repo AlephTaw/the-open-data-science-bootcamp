{
 "cells": [
  {
   "cell_type": "code",
   "execution_count": 1,
   "metadata": {},
   "outputs": [],
   "source": [
    "import numpy as np"
   ]
  },
  {
   "cell_type": "code",
   "execution_count": 2,
   "metadata": {},
   "outputs": [],
   "source": [
    "class _Activation:\n",
    "    \"\"\"\"\"\"\n",
    "    def __init__(self):\n",
    "        \"\"\"\"\"\"\n",
    "    def rect_lin_act(self, x, w):\n",
    "        \"\"\"\"\"\"\n",
    "        mask = x > 0\n",
    "        mask = mask.astype(np.int)\n",
    "        x = x*mask\n",
    "        return np.dot(x,w)\n",
    "        \n",
    "    def drect_lin_act(self, x, w):\n",
    "        \"\"\"\"\"\"\n",
    "        mask = x > 0\n",
    "        mask = mask.astype(np.int)\n",
    "        print(mask)\n",
    "        print(x)\n",
    "        return np.multiply(x,mask)"
   ]
  },
  {
   "cell_type": "code",
   "execution_count": 3,
   "metadata": {},
   "outputs": [
    {
     "name": "stdout",
     "output_type": "stream",
     "text": [
      "[0 0 1 1 1 1]\n",
      "[-1 -2  3  5  6  7]\n"
     ]
    },
    {
     "data": {
      "text/plain": [
       "array([0, 0, 3, 5, 6, 7])"
      ]
     },
     "execution_count": 3,
     "metadata": {},
     "output_type": "execute_result"
    }
   ],
   "source": [
    "act_func = _Activation()\n",
    "x = np.array([-1, -2, 3, 5, 6, 7])\n",
    "w = np.array([11, 12, 13, 14, 15, 16])\n",
    "act_func.rect_lin_act(x,w)\n",
    "act_func.drect_lin_act(x,w)"
   ]
  },
  {
   "cell_type": "code",
   "execution_count": 4,
   "metadata": {},
   "outputs": [],
   "source": [
    "class _Node(_Activation):\n",
    "    \"\"\"\"\"\"\n",
    "    def __init__(self, inputs, weights, activation):\n",
    "        \"\"\"\"\"\"\n",
    "        super().__init__()\n",
    "        self.inputs = inputs\n",
    "        self.weights = weights\n",
    "        self.activation = activation\n",
    "\n",
    "    def forward(self):\n",
    "        if activation == 'linear_act':\n",
    "            return self.lin_act(self.inputs, self.weights)\n",
    "        elif activation == 'rect_linear_act':\n",
    "            return self.rect_lin_act(self.inputs, self.weights)\n",
    "        elif activation == 'tanh':\n",
    "            return self.tanh(self.inputs, self.weights)\n",
    "    \n",
    "    def backwards(self):\n",
    "        if activation == 'linear_act':\n",
    "            return self.dlin_act(self.inputs, self.weights)\n",
    "        elif activation == 'rect_linear_act':\n",
    "            return self.drect_lin_act(self.inputs, self.weights)\n",
    "        elif activation == 'tanh':\n",
    "            return self.dtanh(self.inputs, self.weights)"
   ]
  },
  {
   "cell_type": "code",
   "execution_count": 20,
   "metadata": {},
   "outputs": [],
   "source": [
    "layer = []\n",
    "n_nodes = 3\n",
    "for node in range(n_nodes):\n",
    "    inputs = np.random.randn(3)\n",
    "    weights = np.random.randn(3)\n",
    "    activation = 'rect_linear_act'\n",
    "    layer.append(_Node(inputs, weights, activation))"
   ]
  },
  {
   "cell_type": "code",
   "execution_count": 21,
   "metadata": {},
   "outputs": [],
   "source": [
    "new_w = layer[1].weights"
   ]
  },
  {
   "cell_type": "code",
   "execution_count": 22,
   "metadata": {},
   "outputs": [],
   "source": [
    "new_x = layer[1].inputs"
   ]
  },
  {
   "cell_type": "code",
   "execution_count": 23,
   "metadata": {},
   "outputs": [
    {
     "name": "stdout",
     "output_type": "stream",
     "text": [
      "-0.04222865432544251\n"
     ]
    }
   ],
   "source": [
    "print(layer[1].forward())"
   ]
  },
  {
   "cell_type": "code",
   "execution_count": 24,
   "metadata": {},
   "outputs": [
    {
     "name": "stdout",
     "output_type": "stream",
     "text": [
      "[ 0.09763172 -0.60968008 -1.21279967]\n",
      "[1 0 0]\n",
      "[ 0.09763172 -0.60968008 -1.21279967]\n",
      "[ 0.09763172 -0.         -0.        ]\n"
     ]
    }
   ],
   "source": [
    "print(layer[1].inputs)\n",
    "print(layer[1].backwards())"
   ]
  },
  {
   "cell_type": "code",
   "execution_count": 10,
   "metadata": {},
   "outputs": [
    {
     "name": "stdout",
     "output_type": "stream",
     "text": [
      "0.0\n"
     ]
    }
   ],
   "source": [
    "print(layer[1].forward())"
   ]
  },
  {
   "cell_type": "code",
   "execution_count": 11,
   "metadata": {},
   "outputs": [],
   "source": [
    "act2 = _Activation()"
   ]
  },
  {
   "cell_type": "code",
   "execution_count": 12,
   "metadata": {},
   "outputs": [
    {
     "data": {
      "text/plain": [
       "0.0"
      ]
     },
     "execution_count": 12,
     "metadata": {},
     "output_type": "execute_result"
    }
   ],
   "source": [
    "act2.rect_lin_act(new_x,new_w)"
   ]
  },
  {
   "cell_type": "code",
   "execution_count": 13,
   "metadata": {},
   "outputs": [
    {
     "data": {
      "text/plain": [
       "array([-0.06704787, -0.78815491, -0.76112464])"
      ]
     },
     "execution_count": 13,
     "metadata": {},
     "output_type": "execute_result"
    }
   ],
   "source": [
    "new_x"
   ]
  },
  {
   "cell_type": "code",
   "execution_count": 14,
   "metadata": {},
   "outputs": [
    {
     "data": {
      "text/plain": [
       "array([ 0.76006197,  0.43120323, -0.83305128])"
      ]
     },
     "execution_count": 14,
     "metadata": {},
     "output_type": "execute_result"
    }
   ],
   "source": [
    "new_w"
   ]
  },
  {
   "cell_type": "code",
   "execution_count": null,
   "metadata": {},
   "outputs": [],
   "source": []
  },
  {
   "cell_type": "code",
   "execution_count": null,
   "metadata": {},
   "outputs": [],
   "source": []
  }
 ],
 "metadata": {
  "kernelspec": {
   "display_name": "Python 3",
   "language": "python",
   "name": "python3"
  },
  "language_info": {
   "codemirror_mode": {
    "name": "ipython",
    "version": 3
   },
   "file_extension": ".py",
   "mimetype": "text/x-python",
   "name": "python",
   "nbconvert_exporter": "python",
   "pygments_lexer": "ipython3",
   "version": "3.8.5"
  }
 },
 "nbformat": 4,
 "nbformat_minor": 4
}
